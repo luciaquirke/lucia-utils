{
 "cells": [
  {
   "cell_type": "markdown",
   "metadata": {
    "id": "M6qzT3P-HoPT"
   },
   "source": [
    "Copied from Neel's notebooks etc."
   ]
  },
  {
   "cell_type": "code",
   "execution_count": 1,
   "metadata": {
    "ExecuteTime": {
     "end_time": "2023-05-31T11:06:51.977252Z",
     "start_time": "2023-05-31T11:06:51.891435Z"
    },
    "id": "2QRVBpLTHiqO"
   },
   "outputs": [
    {
     "name": "stdout",
     "output_type": "stream",
     "text": [
      "Running as a Jupyter notebook - intended for development only!\n"
     ]
    },
    {
     "name": "stderr",
     "output_type": "stream",
     "text": [
      "/var/folders/d_/kywm8cvn7hl8st6wskjzv8pr0000gn/T/ipykernel_78214/1856839453.py:22: DeprecationWarning: `magic(...)` is deprecated since IPython 0.13 (warning added in 8.1), use run_line_magic(magic_name, parameter_s).\n",
      "  ipython.magic(\"load_ext autoreload\")\n",
      "/var/folders/d_/kywm8cvn7hl8st6wskjzv8pr0000gn/T/ipykernel_78214/1856839453.py:23: DeprecationWarning: `magic(...)` is deprecated since IPython 0.13 (warning added in 8.1), use run_line_magic(magic_name, parameter_s).\n",
      "  ipython.magic(\"autoreload 2\")\n"
     ]
    }
   ],
   "source": [
    "#@title Neel's Setup\n",
    "DEVELOPMENT_MODE = False\n",
    "try:\n",
    "    import google.colab\n",
    "    IN_COLAB = True\n",
    "    print(\"Running as a Colab notebook\")\n",
    "    %pip install git+https://github.com/neelnanda-io/TransformerLens.git\n",
    "    %pip install circuitsvis\n",
    "    %pip install git+https://github.com/neelnanda-io/neel-plotly\n",
    "    \n",
    "    # PySvelte is an unmaintained visualization library, use it as a backup if circuitsvis isn't working\n",
    "    # # Install another version of node that makes PySvelte work way faster\n",
    "    # !curl -fsSL https://deb.nodesource.com/setup_16.x | sudo -E bash -; sudo apt-get install -y nodejs\n",
    "    # %pip install git+https://github.com/neelnanda-io/PySvelte.git\n",
    "except:\n",
    "    IN_COLAB = False\n",
    "    print(\"Running as a Jupyter notebook - intended for development only!\")\n",
    "    from IPython import get_ipython\n",
    "\n",
    "    ipython = get_ipython()\n",
    "    # Code to automatically update the HookedTransformer code as its edited without restarting the kernel\n",
    "    ipython.magic(\"load_ext autoreload\")\n",
    "    ipython.magic(\"autoreload 2\")"
   ]
  },
  {
   "cell_type": "code",
   "execution_count": 2,
   "metadata": {
    "ExecuteTime": {
     "end_time": "2023-05-31T11:06:52.077360Z",
     "start_time": "2023-05-31T11:06:51.980695Z"
    },
    "cellView": "form",
    "colab": {
     "base_uri": "https://localhost:8080/"
    },
    "id": "-K4amkcAIPHe",
    "outputId": "54c49fb7-24c2-492e-8c58-06c4f96f89b4"
   },
   "outputs": [
    {
     "name": "stdout",
     "output_type": "stream",
     "text": [
      "Using renderer: colab\n"
     ]
    }
   ],
   "source": [
    "#@title Many useful imports\n",
    "\n",
    "# Plotly needs a different renderer for VSCode/Notebooks vs Colab argh\n",
    "import plotly.io as pio\n",
    "if IN_COLAB or not DEVELOPMENT_MODE:\n",
    "    pio.renderers.default = \"colab\"\n",
    "else:\n",
    "    pio.renderers.default = \"notebook_connected\"\n",
    "print(f\"Using renderer: {pio.renderers.default}\")\n",
    "\n",
    "# Import stuff\n",
    "import math\n",
    "import torch\n",
    "import torch.nn as nn\n",
    "import torch.nn.functional as F\n",
    "import torch.optim as optim\n",
    "import numpy as np\n",
    "import pandas as pd\n",
    "import einops\n",
    "from fancy_einsum import einsum\n",
    "import tqdm.auto as tqdm\n",
    "import random\n",
    "from pathlib import Path\n",
    "import plotly.express as px\n",
    "from torch.utils.data import DataLoader\n",
    "\n",
    "from typing import List, Union, Optional\n",
    "from jaxtyping import Float, Int\n",
    "from functools import partial\n",
    "import copy\n",
    "\n",
    "import itertools\n",
    "from transformers import AutoModelForCausalLM, AutoConfig, AutoTokenizer\n",
    "import dataclasses\n",
    "import datasets\n",
    "from IPython.display import HTML\n",
    "\n",
    "import transformer_lens\n",
    "import transformer_lens.utils as utils\n",
    "from transformer_lens.hook_points import (\n",
    "    HookedRootModule,\n",
    "    HookPoint,\n",
    ")  # Hooking utilities\n",
    "from transformer_lens import HookedTransformer, HookedTransformerConfig, FactoredMatrix, ActivationCache\n",
    "\n",
    "from neel_plotly import line, scatter, imshow, histogram\n",
    "\n",
    "import circuitsvis as cv"
   ]
  },
  {
   "cell_type": "code",
   "execution_count": 3,
   "metadata": {
    "cellView": "form",
    "colab": {
     "base_uri": "https://localhost:8080/"
    },
    "id": "NNH1UHjpIrUZ",
    "outputId": "5cff50e4-cdf5-45cc-b17d-d1da119df239"
   },
   "outputs": [
    {
     "name": "stderr",
     "output_type": "stream",
     "text": [
      "Using pad_token, but it is not set yet.\n"
     ]
    },
    {
     "name": "stdout",
     "output_type": "stream",
     "text": [
      "Loaded pretrained model gpt2-small into HookedTransformer\n",
      "cpu\n"
     ]
    }
   ],
   "source": [
    "#@title Load and run transformer lens model on device\n",
    "\n",
    "torch.set_grad_enabled(False)\n",
    "device = \"cuda\" if torch.cuda.is_available() else \"cpu\"\n",
    "\n",
    "model = HookedTransformer.from_pretrained(\"gpt2-small\", device=device)\n",
    "gpt2_text = \"Natural language processing tasks, such as question answering, machine translation, reading comprehension, and summarization, are typically approached with supervised learning on taskspecific datasets.\"\n",
    "gpt2_tokens = model.to_tokens(gpt2_text)\n",
    "print(gpt2_tokens.device)\n",
    "gpt2_logits, gpt2_cache = model.run_with_cache(gpt2_tokens, remove_batch_dim=True)\n"
   ]
  },
  {
   "cell_type": "code",
   "execution_count": 9,
   "metadata": {
    "cellView": "form",
    "colab": {
     "base_uri": "https://localhost:8080/"
    },
    "id": "KfY9yZrnSIq0",
    "outputId": "dd796216-d7a1-4c4e-f020-246a896e11a3"
   },
   "outputs": [
    {
     "name": "stdout",
     "output_type": "stream",
     "text": [
      "Layer 2 Head 4 Attention Pattern:\n"
     ]
    },
    {
     "data": {
      "text/html": [
       "\n",
       "        <div style='max-width: 500px; max-height: 500px; padding: 20px;'>\n",
       "            <div id=\"circuits-vis-562b49a9-bcba\" style=\"margin: 15px 0;\"/>\n",
       "    <script crossorigin type=\"module\">\n",
       "    import { render, AttentionPattern } from \"https://unpkg.com/circuitsvis@1.39.1/dist/cdn/esm.js\";\n",
       "    render(\n",
       "      \"circuits-vis-562b49a9-bcba\",\n",
       "      AttentionPattern,\n",
       "      {\"tokens\": [\"<|endoftext|>\", \"Access\", \" and\", \" plot\", \" the\", \" attention\", \" pattern\", \" of\", \" head\", \" L\", \"2\", \"H\", \"4\", \" on\", \" the\", \" prompt\"], \"attention\": [[1.0, 0.0, 0.0, 0.0, 0.0, 0.0, 0.0, 0.0, 0.0, 0.0, 0.0, 0.0, 0.0, 0.0, 0.0, 0.0, 0.0, 0.0, 0.0, 0.0, 0.0, 0.0, 0.0, 0.0, 0.0, 0.0, 0.0, 0.0, 0.0, 0.0, 0.0, 0.0, 0.0], [0.9527689814567566, 0.04723102226853371, 0.0, 0.0, 0.0, 0.0, 0.0, 0.0, 0.0, 0.0, 0.0, 0.0, 0.0, 0.0, 0.0, 0.0, 0.0, 0.0, 0.0, 0.0, 0.0, 0.0, 0.0, 0.0, 0.0, 0.0, 0.0, 0.0, 0.0, 0.0, 0.0, 0.0, 0.0], [0.45866087079048157, 0.5052295923233032, 0.0361095555126667, 0.0, 0.0, 0.0, 0.0, 0.0, 0.0, 0.0, 0.0, 0.0, 0.0, 0.0, 0.0, 0.0, 0.0, 0.0, 0.0, 0.0, 0.0, 0.0, 0.0, 0.0, 0.0, 0.0, 0.0, 0.0, 0.0, 0.0, 0.0, 0.0, 0.0], [0.5366436839103699, 0.3641241192817688, 0.05742228031158447, 0.04180995747447014, 0.0, 0.0, 0.0, 0.0, 0.0, 0.0, 0.0, 0.0, 0.0, 0.0, 0.0, 0.0, 0.0, 0.0, 0.0, 0.0, 0.0, 0.0, 0.0, 0.0, 0.0, 0.0, 0.0, 0.0, 0.0, 0.0, 0.0, 0.0, 0.0], [0.2779395878314972, 0.6085660457611084, 0.045606210827827454, 0.032645080238580704, 0.03524305671453476, 0.0, 0.0, 0.0, 0.0, 0.0, 0.0, 0.0, 0.0, 0.0, 0.0, 0.0, 0.0, 0.0, 0.0, 0.0, 0.0, 0.0, 0.0, 0.0, 0.0, 0.0, 0.0, 0.0, 0.0, 0.0, 0.0, 0.0, 0.0], [0.2704780399799347, 0.3455287516117096, 0.03743738308548927, 0.06675933301448822, 0.13222599029541016, 0.14757047593593597, 0.0, 0.0, 0.0, 0.0, 0.0, 0.0, 0.0, 0.0, 0.0, 0.0, 0.0, 0.0, 0.0, 0.0, 0.0, 0.0, 0.0, 0.0, 0.0, 0.0, 0.0, 0.0, 0.0, 0.0, 0.0, 0.0, 0.0], [0.18535977602005005, 0.24109795689582825, 0.019805442541837692, 0.07175560295581818, 0.08704174309968948, 0.19118933379650116, 0.20375016331672668, 0.0, 0.0, 0.0, 0.0, 0.0, 0.0, 0.0, 0.0, 0.0, 0.0, 0.0, 0.0, 0.0, 0.0, 0.0, 0.0, 0.0, 0.0, 0.0, 0.0, 0.0, 0.0, 0.0, 0.0, 0.0, 0.0], [0.2359389364719391, 0.09214852005243301, 0.009508329443633556, 0.03480711951851845, 0.04095592349767685, 0.20143504440784454, 0.2818988263607025, 0.10330735146999359, 0.0, 0.0, 0.0, 0.0, 0.0, 0.0, 0.0, 0.0, 0.0, 0.0, 0.0, 0.0, 0.0, 0.0, 0.0, 0.0, 0.0, 0.0, 0.0, 0.0, 0.0, 0.0, 0.0, 0.0, 0.0], [0.09471481293439865, 0.0187026746571064, 0.005894665606319904, 0.018099278211593628, 0.04379044100642204, 0.08279413729906082, 0.36323603987693787, 0.2542000710964203, 0.11856794357299805, 0.0, 0.0, 0.0, 0.0, 0.0, 0.0, 0.0, 0.0, 0.0, 0.0, 0.0, 0.0, 0.0, 0.0, 0.0, 0.0, 0.0, 0.0, 0.0, 0.0, 0.0, 0.0, 0.0, 0.0], [0.04318100959062576, 0.012062905356287956, 0.003283865749835968, 0.006239347159862518, 0.012590291909873486, 0.04503979906439781, 0.42322468757629395, 0.1409469097852707, 0.205957293510437, 0.10747385770082474, 0.0, 0.0, 0.0, 0.0, 0.0, 0.0, 0.0, 0.0, 0.0, 0.0, 0.0, 0.0, 0.0, 0.0, 0.0, 0.0, 0.0, 0.0, 0.0, 0.0, 0.0, 0.0, 0.0], [0.0564732700586319, 0.008760074153542519, 0.0012305433629080653, 0.002530893310904503, 0.006752999033778906, 0.005022048484534025, 0.219215989112854, 0.22754783928394318, 0.11845600605010986, 0.23053961992263794, 0.12347068637609482, 0.0, 0.0, 0.0, 0.0, 0.0, 0.0, 0.0, 0.0, 0.0, 0.0, 0.0, 0.0, 0.0, 0.0, 0.0, 0.0, 0.0, 0.0, 0.0, 0.0, 0.0, 0.0], [0.06418433785438538, 0.008216542191803455, 0.0011789037380367517, 0.0019489085534587502, 0.004534365609288216, 0.01619776524603367, 0.07761187106370926, 0.08401171118021011, 0.133036807179451, 0.13834255933761597, 0.2925969660282135, 0.17813929915428162, 0.0, 0.0, 0.0, 0.0, 0.0, 0.0, 0.0, 0.0, 0.0, 0.0, 0.0, 0.0, 0.0, 0.0, 0.0, 0.0, 0.0, 0.0, 0.0, 0.0, 0.0], [0.04446098208427429, 0.0032626898027956486, 0.0007861792109906673, 0.0023898559156805277, 0.0060815829783678055, 0.013034315779805183, 0.09197588264942169, 0.056388743221759796, 0.07737979292869568, 0.0986037328839302, 0.20780737698078156, 0.28888964653015137, 0.1089392602443695, 0.0, 0.0, 0.0, 0.0, 0.0, 0.0, 0.0, 0.0, 0.0, 0.0, 0.0, 0.0, 0.0, 0.0, 0.0, 0.0, 0.0, 0.0, 0.0, 0.0], [0.06165327504277229, 0.005309675354510546, 0.0006100314203649759, 0.0009910819353535771, 0.002460646675899625, 0.0019517001928761601, 0.08144521713256836, 0.08829227834939957, 0.0373636931180954, 0.07889212667942047, 0.03286195918917656, 0.16527095437049866, 0.21688216924667358, 0.22601526975631714, 0.0, 0.0, 0.0, 0.0, 0.0, 0.0, 0.0, 0.0, 0.0, 0.0, 0.0, 0.0, 0.0, 0.0, 0.0, 0.0, 0.0, 0.0, 0.0], [0.059469737112522125, 0.004004379268735647, 0.0007333206594921649, 0.001178303617052734, 0.006093590520322323, 0.003817728953436017, 0.024795394390821457, 0.021692996844649315, 0.04004218801856041, 0.04796091467142105, 0.04879213497042656, 0.15166589617729187, 0.09555553644895554, 0.29607269167900085, 0.19812525808811188, 0.0, 0.0, 0.0, 0.0, 0.0, 0.0, 0.0, 0.0, 0.0, 0.0, 0.0, 0.0, 0.0, 0.0, 0.0, 0.0, 0.0, 0.0], [0.09245727211236954, 0.002788353245705366, 0.00034214576589874923, 0.0007379443268291652, 0.0022735411766916513, 0.004293275065720081, 0.020557206124067307, 0.01158230658620596, 0.0162910595536232, 0.03403964266180992, 0.04311361536383629, 0.053246039897203445, 0.05550774186849594, 0.21978171169757843, 0.30859196186065674, 0.13439621031284332, 0.0, 0.0, 0.0, 0.0, 0.0, 0.0, 0.0, 0.0, 0.0, 0.0, 0.0, 0.0, 0.0, 0.0, 0.0, 0.0, 0.0], [0.0537668913602829, 0.0026100820396095514, 0.00027645693626254797, 0.0003414982638787478, 0.0008195043774321675, 0.0005369650898501277, 0.020096350461244583, 0.019936533644795418, 0.00796772912144661, 0.016671685501933098, 0.0060677002184093, 0.034660641103982925, 0.0449347198009491, 0.04091455042362213, 0.30680713057518005, 0.15153300762176514, 0.2920585870742798, 0.0, 0.0, 0.0, 0.0, 0.0, 0.0, 0.0, 0.0, 0.0, 0.0, 0.0, 0.0, 0.0, 0.0, 0.0, 0.0], [0.03389238566160202, 0.001972619676962495, 0.00019271527708042413, 0.0003004464088007808, 0.0004579853848554194, 0.0006643105880357325, 0.02403201162815094, 0.01492251269519329, 0.0045585050247609615, 0.014570898376405239, 0.0058097937144339085, 0.02123052254319191, 0.025724923238158226, 0.03821533918380737, 0.2254597246646881, 0.0913907065987587, 0.2571917772293091, 0.23941288888454437, 0.0, 0.0, 0.0, 0.0, 0.0, 0.0, 0.0, 0.0, 0.0, 0.0, 0.0, 0.0, 0.0, 0.0, 0.0], [0.023206178098917007, 0.002107893815264106, 0.0004909157869406044, 0.00036918383557349443, 0.0005153263336978853, 0.000699041411280632, 0.010789202526211739, 0.010822096839547157, 0.005240531638264656, 0.006529517471790314, 0.00405954709276557, 0.01372889056801796, 0.016635898500680923, 0.02099517174065113, 0.11394163221120834, 0.05406123772263527, 0.11095517873764038, 0.4197344183921814, 0.18511824309825897, 0.0, 0.0, 0.0, 0.0, 0.0, 0.0, 0.0, 0.0, 0.0, 0.0, 0.0, 0.0, 0.0, 0.0], [0.034842222929000854, 0.0007759123691357672, 9.720336674945429e-05, 0.00012383132707327604, 0.0003506401553750038, 0.0006680520600639284, 0.009900256060063839, 0.0035968716256320477, 0.0024632965214550495, 0.0042512621730566025, 0.005301306489855051, 0.010295270942151546, 0.005105276592075825, 0.027316663414239883, 0.042186763137578964, 0.02304130420088768, 0.14777423441410065, 0.3576785624027252, 0.28069016337394714, 0.0435408279299736, 0.0, 0.0, 0.0, 0.0, 0.0, 0.0, 0.0, 0.0, 0.0, 0.0, 0.0, 0.0, 0.0], [0.04089328274130821, 0.0010389975504949689, 0.0001218840479850769, 0.00012990769755560905, 0.0002571500663179904, 8.828568388707936e-05, 0.0055092982947826385, 0.0050839828327298164, 0.001436521066352725, 0.003094578394666314, 0.0005664619384333491, 0.004942672792822123, 0.006773051340132952, 0.003360962960869074, 0.03823291137814522, 0.0183539018034935, 0.021833963692188263, 0.2640393376350403, 0.3630920350551605, 0.07362046092748642, 0.14753036201000214, 0.0, 0.0, 0.0, 0.0, 0.0, 0.0, 0.0, 0.0, 0.0, 0.0, 0.0, 0.0], [0.060375090688467026, 0.0021835309453308582, 0.00010952684533549473, 0.00014312703569885343, 0.00015161883493419737, 0.000474091648356989, 0.005781550891697407, 0.00901852361857891, 0.001953084021806717, 0.004201376810669899, 0.0025386475026607513, 0.0039241258054971695, 0.006669642403721809, 0.009582084603607655, 0.06196461617946625, 0.01540573313832283, 0.045842546969652176, 0.12849102914333344, 0.2626257836818695, 0.045855842530727386, 0.25004321336746216, 0.08266525715589523, 0.0, 0.0, 0.0, 0.0, 0.0, 0.0, 0.0, 0.0, 0.0, 0.0, 0.0], [0.0660567432641983, 0.0012611846905201674, 6.554318679263815e-05, 7.595844363095239e-05, 0.00017253168334718794, 0.0005302188219502568, 0.0032266532070934772, 0.00782192125916481, 0.0018530419329181314, 0.003261660225689411, 0.00235897209495306, 0.003042625030502677, 0.0049736108630895615, 0.009430035948753357, 0.030710233375430107, 0.012357543222606182, 0.04434957355260849, 0.11840984225273132, 0.09136632084846497, 0.027836840599775314, 0.21290157735347748, 0.12336209416389465, 0.23457519710063934, 0.0, 0.0, 0.0, 0.0, 0.0, 0.0, 0.0, 0.0, 0.0, 0.0], [0.08884385973215103, 0.001059567672200501, 9.096468420466408e-05, 8.413993055000901e-05, 0.0001800621539587155, 0.0005316536989994347, 0.003323908895254135, 0.01120175514370203, 0.0005974938976578414, 0.001945017371326685, 0.0020203697495162487, 0.0019831457175314426, 0.00248672254383564, 0.006447400897741318, 0.012094579637050629, 0.005948271602392197, 0.02930840104818344, 0.06567622721195221, 0.07175440341234207, 0.01480894349515438, 0.14174231886863708, 0.059984102845191956, 0.26108452677726746, 0.2168022096157074, 0.0, 0.0, 0.0, 0.0, 0.0, 0.0, 0.0, 0.0, 0.0], [0.0449485182762146, 0.0005324562080204487, 1.8196928067482077e-05, 4.836478183278814e-05, 8.613555110059679e-05, 8.999927376862615e-05, 0.0011375825852155685, 0.0011330529814586043, 0.0002792480809148401, 0.0004642246349249035, 0.0003829718043562025, 0.001009638304822147, 0.0009827208705246449, 0.0017349834088236094, 0.012320827692747116, 0.004407461732625961, 0.00891895778477192, 0.033729881048202515, 0.06226721778512001, 0.013472945429384708, 0.04577379673719406, 0.04448329284787178, 0.20482079684734344, 0.36443787813186646, 0.15251882374286652, 0.0, 0.0, 0.0, 0.0, 0.0, 0.0, 0.0, 0.0], [0.022792832925915718, 0.00020792555005755275, 3.346240919199772e-05, 1.9758757844101638e-05, 3.7824695027666166e-05, 6.458271673182026e-05, 0.00019738181435968727, 0.00020945194410160184, 0.0001834338327171281, 0.00029007025295868516, 0.00021128341904841363, 0.00038236399996094406, 0.0005364524549804628, 0.0008200922748073936, 0.0009382183779962361, 0.0019827978685498238, 0.003885696642100811, 0.008472847752273083, 0.014093543402850628, 0.006307355128228664, 0.020635556429624557, 0.017526183277368546, 0.029795505106449127, 0.09762740880250931, 0.5901076197624207, 0.18264038860797882, 0.0, 0.0, 0.0, 0.0, 0.0, 0.0, 0.0], [0.05628630518913269, 0.0001231167552759871, 2.3576007151859812e-05, 3.928857040591538e-05, 0.00011793390149250627, 5.833471004734747e-05, 0.00018631020793691278, 6.779767136322334e-05, 0.0002227407821919769, 0.0002550909703131765, 0.00017753549036569893, 0.0003675342013593763, 0.0003203795349691063, 0.0006495626294054091, 0.0004271443758625537, 0.0014082794077694416, 0.0027651453856378794, 0.007005386520177126, 0.016604481264948845, 0.005407606717199087, 0.014260069467127323, 0.019260093569755554, 0.026708954945206642, 0.12567992508411407, 0.29462918639183044, 0.35336440801620483, 0.07358384132385254, 0.0, 0.0, 0.0, 0.0, 0.0, 0.0], [0.044995155185461044, 0.00015587566304020584, 2.7354197300155647e-05, 1.9841059838654473e-05, 3.936086795874871e-05, 3.0415110813919455e-05, 0.00013164884876459837, 6.588273390661925e-05, 6.945787754375488e-05, 0.00019108725246042013, 7.990832818904892e-05, 0.00022022300981916487, 0.00020986318122595549, 0.0002894401259254664, 0.0007500717183575034, 0.0006814543739892542, 0.0013904180377721786, 0.00301064713858068, 0.009692717343568802, 0.003005331614986062, 0.0073197684250772, 0.0069663613103330135, 0.02575020119547844, 0.09026136994361877, 0.1502518653869629, 0.31375718116760254, 0.11209708452224731, 0.2285400927066803, 0.0, 0.0, 0.0, 0.0, 0.0], [0.014098554849624634, 0.00016097495972644538, 1.0932869372481946e-05, 6.210977517184801e-06, 6.088906502554892e-06, 2.9057666324661113e-05, 0.00016687647439539433, 4.250525307725184e-05, 7.923325028968975e-05, 0.00010345017653889954, 8.336406608577818e-05, 0.00010087811824632809, 0.0002298750332556665, 0.0002884469577111304, 0.0006217668997123837, 0.0005806575063616037, 0.0012327868025749922, 0.0019906030502170324, 0.002713278401643038, 0.0015671413857489824, 0.004909887444227934, 0.008894248865544796, 0.007937301881611347, 0.010165904648602009, 0.04334745183587074, 0.10750927776098251, 0.07797984778881073, 0.6602349877357483, 0.05490851029753685, 0.0, 0.0, 0.0, 0.0], [0.03099062480032444, 0.00020548398606479168, 2.454632704029791e-05, 1.8106906281900592e-05, 2.3287784642889164e-05, 2.2275846276897937e-05, 2.454787136230152e-05, 1.828571294026915e-05, 2.8658016162808053e-05, 7.954921602504328e-05, 3.6746809200849384e-05, 0.00010082043445436284, 0.0001417388702975586, 0.00014848857244942337, 0.0003375622327439487, 0.00047833583084866405, 0.0006039176369085908, 0.0009547799709253013, 0.0024353880435228348, 0.0013966335682198405, 0.0031279067043215036, 0.003127623349428177, 0.004785037599503994, 0.007922539487481117, 0.022958314046263695, 0.13895653188228607, 0.08735229820013046, 0.36460602283477783, 0.16314096748828888, 0.16595302522182465, 0.0, 0.0, 0.0], [0.01714387722313404, 0.00010973670578096062, 1.7928483430296183e-05, 1.3531193872040603e-05, 2.2527236069436185e-05, 1.965390947589185e-05, 9.27650835365057e-05, 4.6781620767433196e-05, 3.4490458347136155e-05, 5.226253779255785e-05, 3.5352517443243414e-05, 9.61098339757882e-05, 8.395890472456813e-05, 0.00011403577809687704, 0.0003920368617400527, 0.0002684584469534457, 0.00043177782208658755, 0.0008567675831727684, 0.0013820790918543935, 0.00042770514846779406, 0.002300058491528034, 0.005789080634713173, 0.005061132367700338, 0.009513300843536854, 0.0340343676507473, 0.11027979105710983, 0.0818963572382927, 0.40568333864212036, 0.12390939891338348, 0.07783357053995132, 0.1220577135682106, 0.0, 0.0], [0.036682479083538055, 0.00042652993579395115, 2.6175248422077857e-05, 1.4862013813399244e-05, 1.0755462426459417e-05, 4.4034230086253956e-05, 0.00017233991820830852, 7.366480713244528e-05, 7.850587280699983e-05, 8.877091750036925e-05, 5.7988319895230234e-05, 8.282894123112783e-05, 0.00012453047384042293, 0.00014879628724884242, 0.000281113781966269, 0.0002648946538101882, 0.000504366063978523, 0.0011109061306342483, 0.001265864004381001, 0.0005718705360777676, 0.001615484245121479, 0.006833391264081001, 0.005889322143048048, 0.008763443678617477, 0.02376253344118595, 0.042168498039245605, 0.024662481620907784, 0.2741489112377167, 0.015413709916174412, 0.11237002164125443, 0.38043493032455444, 0.06190599128603935, 0.0], [0.33781689405441284, 0.0068606729619205, 0.0006528185913339257, 0.0003150595584884286, 0.0003574949223548174, 0.0003282421384938061, 0.0008714384748600423, 0.0002611920644994825, 0.00023760781914461404, 0.0005173339159227908, 0.00013648110325448215, 0.0003141291963402182, 0.00042641197796911, 0.00023825494281481951, 0.0005438282387331128, 0.00032428253325633705, 0.0005497739766724408, 0.002096733544021845, 0.0022663790732622147, 0.0008147848420776427, 0.001713847159408033, 0.007594184949994087, 0.010263326577842236, 0.010164783336222172, 0.026399893686175346, 0.03205893188714981, 0.010752801783382893, 0.06892090290784836, 0.02127528190612793, 0.01767682284116745, 0.05791546776890755, 0.13958902657032013, 0.2397448867559433]]}\n",
       "    )\n",
       "    </script>\n",
       "        </div>\n",
       "        "
      ],
      "text/plain": [
       "<__main__.SizeLimitedObject at 0x14da6e350>"
      ]
     },
     "execution_count": 9,
     "metadata": {},
     "output_type": "execute_result"
    }
   ],
   "source": [
    "#@title Size-Constrained CircuitViz Attention Pattern\n",
    "# Plot doesn't display when initialized in a method ?\n",
    "layer = 2\n",
    "head = 4\n",
    "text = \"Access and plot the attention pattern of head L2H4 on the prompt\"\n",
    "cache = gpt2_cache\n",
    "\n",
    "class SizeLimitedObject:\n",
    "    def __init__(self, obj, max_width='500px', max_height='500px'):\n",
    "        self.obj = obj\n",
    "        self.max_width = max_width\n",
    "        self.max_height = max_height\n",
    "\n",
    "    def _repr_html_(self):\n",
    "        return f\"\"\"\n",
    "        <div style='max-width: {self.max_width}; max-height: {self.max_height}; padding: 20px;'>\n",
    "            {self.obj._repr_html_()}\n",
    "        </div>\n",
    "        \"\"\"\n",
    "\n",
    "attention_pattern = cache[\"pattern\", layer, \"attn\"]\n",
    "str_tokens = model.to_str_tokens(text)\n",
    "\n",
    "print(f\"Layer {layer} Head {head} Attention Pattern:\")\n",
    "head_attention = cv.attention.attention_pattern(tokens=str_tokens, attention=attention_pattern[head - 1])\n",
    "\n",
    "sized_viz = SizeLimitedObject(head_attention)\n",
    "# sized_viz"
   ]
  },
  {
   "cell_type": "code",
   "execution_count": 5,
   "metadata": {
    "cellView": "form",
    "id": "mrGBwha1lPhG"
   },
   "outputs": [],
   "source": [
    "#@title Ablation Hooks\n",
    "\n",
    "# Other inputs for utils.get_act_name can be found here:\n",
    "# https://github.com/luciaquirke/TransformerLens/blob/49edbec5424081182ef090265e2e6112153deffc/transformer_lens/utils.py\n",
    "\n",
    "layer_to_ablate = 0\n",
    "head_index_to_ablate = 8\n",
    "text = gpt2_text\n",
    "model = model\n",
    "\n",
    "def head_ablation_hook(\n",
    "    value: Float[torch.Tensor, \"batch pos head_index d_head\"],\n",
    "    hook: HookPoint\n",
    ") -> Float[torch.Tensor, \"batch pos head_index d_head\"]:\n",
    "    # print(f\"Shape of the value tensor: {value.shape}\")\n",
    "    value[:, :, head_index_to_ablate, :] = 0.\n",
    "    return value\n",
    "\n",
    "def mlp_ablation_hook(\n",
    "    value: Float[torch.Tensor, \"batch pos d_model\"],\n",
    "    hook: HookPoint\n",
    ") -> Float[torch.Tensor, \"batch pos d_model\"]:\n",
    "    value[:, :, :] = 0.\n",
    "    return value\n",
    "\n",
    "def get_mlp_mean_ablation_hook(batched_cache, act_name):\n",
    "    # mean over all batches\n",
    "    mean = batched_cache[act_name].mean(dim=0)\n",
    "    print(mean)\n",
    "\n",
    "    def mlp_mean_ablation_hook(\n",
    "        value: Float[torch.Tensor, \"batch pos d_model\"],\n",
    "        hook: HookPoint\n",
    "    ) -> Float[torch.Tensor, \"batch pos d_model\"]:\n",
    "        # print(f\"Shape of the value tensor: {value.shape}\")\n",
    "        value[:, :, :] = mean\n",
    "        return value\n",
    "\n",
    "    return mlp_mean_ablation_hook\n",
    "\n",
    "# original_loss = model(gpt2_tokens, return_type=\"loss\")\n",
    "# with model.hooks(fwd_hooks=[(utils.get_act_name(\"v\", layer_to_ablate), head_ablation_hook)]):\n",
    "#     ablated_head_loss = model(text, return_type=\"loss\")\n",
    "\n",
    "# with model.hooks(fwd_hooks=[(utils.get_act_name(\"pre\", layer_to_ablate), mlp_ablation_hook)]):\n",
    "#     ablated_mlp_loss = model(text, return_type=\"loss\")\n",
    "\n",
    "# print(f\"Original Loss: {original_loss.item():.3f}\")\n",
    "# print(f\"Ablated Head Loss: {ablated_head_loss.item():.3f}\")\n",
    "# print(f\"Ablated MLP Loss: {ablated_mlp_loss.item():.3f}\")"
   ]
  },
  {
   "cell_type": "code",
   "execution_count": 6,
   "metadata": {
    "cellView": "form",
    "id": "arxcAuoJp0kb"
   },
   "outputs": [],
   "source": [
    "#@title Print Tensor First Few Elements\n",
    "\n",
    "def head(tensor):\n",
    "    slices = [slice(0, 3) for _ in tensor.shape]\n",
    "    print(tensor[slices])\n",
    "\n",
    "def upper(tensor):\n",
    "    rows, cols = torch.tril_indices(tensor.size(-2), tensor.size(-1))\n",
    "    result = tensor[..., rows, cols]\n",
    "    print(result)\n",
    "\n",
    "# head(torch.rand(100, 100, 100, 100))"
   ]
  },
  {
   "cell_type": "code",
   "execution_count": 7,
   "metadata": {
    "cellView": "form",
    "id": "mA2ziaJt_rop"
   },
   "outputs": [],
   "source": [
    "#@title Line, Imshow/Heatmap, Scatter, Histogram\n",
    "\n",
    "def line(x, y, line_labels=None, xaxis=\"\", yaxis=\"\", title=\"\", **kwargs):\n",
    "    df = pd.DataFrame({'x': x, 'y': y})\n",
    "    fig = px.line(df, x='x', y='y', title=title)\n",
    "    labels = {\"x\":xaxis, \"y\":yaxis}\n",
    "    if line_labels:\n",
    "        for c, label in enumerate(line_labels):\n",
    "            fig.data[c].name = label\n",
    "    fig.show()\n",
    "  \n",
    "def imshow(tensor, xaxis=\"\", yaxis=\"\", **kwargs):\n",
    "    plot_kwargs = {\"color_continuous_scale\":\"RdBu\", \"color_continuous_midpoint\":0.0, \"labels\":{\"x\":xaxis, \"y\":yaxis}}\n",
    "    plot_kwargs.update(kwargs)\n",
    "    px.imshow(tensor, **plot_kwargs).show()\n",
    "\n",
    "def scatter(x, y, labels=None, xaxis=\"\", yaxis=\"\", title=\"\", **kwargs):\n",
    "    df = pd.DataFrame({xaxis: x, yaxis: y})\n",
    "    fig = px.scatter(df, x=xaxis, y=yaxis, title=title, **kwargs)\n",
    "    if labels:\n",
    "        for c, label in enumerate(labels):\n",
    "            fig.data[c].name = label\n",
    "    fig.show()\n",
    "\n",
    "def histogram(data):\n",
    "    df = pd.DataFrame({'Data': data})\n",
    "    fig = px.histogram(df, x='Data')\n",
    "    fig.show()\n",
    "\n",
    "# # histogram example\n",
    "# histogram(np.random.randn(1000))\n",
    "\n",
    "# # line examples\n",
    "# x = np.linspace(0, 50, 50, dtype=\"int\")\n",
    "# y = np.random.rand(50)\n",
    "# line(x, y, xaxis=\"x values\", yaxis=\"y values\", title=\"Gaussian Random Variables\")\n",
    "\n",
    "# x = np.linspace(0, 10, 100)\n",
    "# y = np.sin(x)\n",
    "# line(x, y, xaxis=\"x values\", yaxis=\"y values\", title=\"Sine Wave\")\n",
    "\n",
    "# # imshow example\n",
    "# tensor = np.random.rand(10, 10)\n",
    "# imshow(tensor, xaxis=\"X-axis\", yaxis=\"Y-axis\")\n",
    "\n",
    "# scatter example\n",
    "# x = np.linspace(0, 50, 50, dtype=\"int\")\n",
    "# y = np.random.rand(50)\n",
    "# scatter(x, y, xaxis=\"x values\", yaxis=\"y values\", title=\"Scatter Plot\")"
   ]
  },
  {
   "cell_type": "code",
   "execution_count": 10,
   "metadata": {
    "colab": {
     "base_uri": "https://localhost:8080/",
     "height": 35,
     "referenced_widgets": [
      "77645a786fb848daa52292123f400757",
      "d404c75521da43e897db824ce2ee2e8c",
      "c3242a3bd78d42c2bb23a0a42ff6b27b",
      "e11146730ad147aeb3d4b72236043d77",
      "22cf64c1d5374d3f9ce6a04630e08741",
      "aa6a7e83eabe4eae8e145ebbd8ddd7da",
      "6fb7786473ce413e95e6508a724a305c",
      "248dcada484e44b1ba8565ceaa3be716",
      "3eac9743e5164c9bb4d434a989da3e3d",
      "922ccf8ebe0144beb5ed5b66e9d822c5",
      "2404b2dceca84d68b8cd04883db5ce3b"
     ]
    },
    "id": "__AY5Hv0gMXY",
    "outputId": "7f3ac510-3457-4fb2-f4c6-5ea277d67ffe"
   },
   "outputs": [
    {
     "name": "stdout",
     "output_type": "stream",
     "text": [
      "huggingface/tokenizers: The current process just got forked, after parallelism has already been used. Disabling parallelism to avoid deadlocks...\n",
      "To disable this warning, you can either:\n",
      "\t- Avoid using `tokenizers` before the fork if possible\n",
      "\t- Explicitly set the environment variable TOKENIZERS_PARALLELISM=(true | false)\n"
     ]
    },
    {
     "data": {
      "application/vnd.jupyter.widget-view+json": {
       "model_id": "930bce1b86af4d8383c537c1a4797fb2",
       "version_major": 2,
       "version_minor": 0
      },
      "text/plain": [
       "Downloading builder script:   0%|          | 0.00/4.06k [00:00<?, ?B/s]"
      ]
     },
     "metadata": {},
     "output_type": "display_data"
    },
    {
     "data": {
      "application/vnd.jupyter.widget-view+json": {
       "model_id": "2630c36d61d34bc38206f320642f5df8",
       "version_major": 2,
       "version_minor": 0
      },
      "text/plain": [
       "Downloading metadata:   0%|          | 0.00/2.65k [00:00<?, ?B/s]"
      ]
     },
     "metadata": {},
     "output_type": "display_data"
    },
    {
     "data": {
      "application/vnd.jupyter.widget-view+json": {
       "model_id": "f9912ed069e64a03b7b3f211c7a4e84e",
       "version_major": 2,
       "version_minor": 0
      },
      "text/plain": [
       "Downloading readme:   0%|          | 0.00/7.95k [00:00<?, ?B/s]"
      ]
     },
     "metadata": {},
     "output_type": "display_data"
    },
    {
     "name": "stdout",
     "output_type": "stream",
     "text": [
      "Downloading and preparing dataset ag_news/default to /Users/luciaquirke/.cache/huggingface/datasets/ag_news/default/0.0.0/bc2bcb40336ace1a0374767fc29bb0296cdaf8a6da7298436239c54d79180548...\n"
     ]
    },
    {
     "data": {
      "application/vnd.jupyter.widget-view+json": {
       "model_id": "6c382f374e434ec292a9e882667afb2f",
       "version_major": 2,
       "version_minor": 0
      },
      "text/plain": [
       "Downloading data:   0%|          | 0.00/11.0M [00:00<?, ?B/s]"
      ]
     },
     "metadata": {},
     "output_type": "display_data"
    },
    {
     "data": {
      "application/vnd.jupyter.widget-view+json": {
       "model_id": "e5b0ab69557e4b47810c64b392cfb9d1",
       "version_major": 2,
       "version_minor": 0
      },
      "text/plain": [
       "Downloading data:   0%|          | 0.00/751k [00:00<?, ?B/s]"
      ]
     },
     "metadata": {},
     "output_type": "display_data"
    },
    {
     "data": {
      "application/vnd.jupyter.widget-view+json": {
       "model_id": "",
       "version_major": 2,
       "version_minor": 0
      },
      "text/plain": [
       "Generating train split:   0%|          | 0/120000 [00:00<?, ? examples/s]"
      ]
     },
     "metadata": {},
     "output_type": "display_data"
    },
    {
     "data": {
      "application/vnd.jupyter.widget-view+json": {
       "model_id": "",
       "version_major": 2,
       "version_minor": 0
      },
      "text/plain": [
       "Generating test split:   0%|          | 0/7600 [00:00<?, ? examples/s]"
      ]
     },
     "metadata": {},
     "output_type": "display_data"
    },
    {
     "name": "stdout",
     "output_type": "stream",
     "text": [
      "Dataset ag_news downloaded and prepared to /Users/luciaquirke/.cache/huggingface/datasets/ag_news/default/0.0.0/bc2bcb40336ace1a0374767fc29bb0296cdaf8a6da7298436239c54d79180548. Subsequent calls will reuse this data.\n"
     ]
    },
    {
     "data": {
      "application/vnd.jupyter.widget-view+json": {
       "model_id": "",
       "version_major": 2,
       "version_minor": 0
      },
      "text/plain": [
       "Map:   0%|          | 0/7600 [00:00<?, ? examples/s]"
      ]
     },
     "metadata": {},
     "output_type": "display_data"
    },
    {
     "name": "stdout",
     "output_type": "stream",
     "text": [
      "torch.Size([260])\n"
     ]
    }
   ],
   "source": [
    "from transformers import AutoTokenizer, DataCollatorWithPadding\n",
    "from datasets import load_dataset\n",
    "from torch.utils.data import DataLoader\n",
    "\n",
    "dataset = load_dataset('ag_news', split='test')\n",
    "\n",
    "# # find maximum number of tokens\n",
    "# def find_length(example):\n",
    "#     tokens = model.to_tokens(example['text'])\n",
    "#     return {\"length\": tokens.shape[1]}\n",
    "# dataset = dataset.map(find_length)\n",
    "# max_length = max(dataset['length']) # 260\n",
    "max_length = 260\n",
    "\n",
    "# Find number of entries at each pos\n",
    "pos_counts = torch.zeros(max_length)\n",
    "def add_entries(example):\n",
    "    tokens = model.to_tokens(example['text'])\n",
    "    pos_counts[:len(tokens[0])] += 1\n",
    "dataset.map(add_entries)\n",
    "print(pos_counts.shape)\n",
    "\n",
    "act_name = utils.get_act_name(\"pre\", 0)\n",
    "\n",
    "test_text = dataset[0].get('text')\n",
    "tokens = model.to_tokens(test_text)\n",
    "_, cache = model.run_with_cache(tokens)\n",
    "\n",
    "# get pos counts over all batches, then use to get average activation at each position and dimension. \n",
    "# Or histogram of token lists and filter / truncate to a reasonable length\n",
    "\n",
    "batch_size = 10\n",
    "sum_acts = torch.zeros(1, max_length, model.cfg.d_mlp) # batch, pos, d_mlp\n",
    "\n",
    "for i in range(0, 7590, batch_size):\n",
    "    test_text = dataset[i, i + batch_size].get('text')[0]\n",
    "    tokens = model.to_tokens(test_text)\n",
    "    _, cache = model.run_with_cache(tokens)\n",
    "\n",
    "    # Keep track of how many pos aren't 0 for averaging\n",
    "\n",
    "    # add zeros for the unused tensors.\n",
    "    acts = cache[act_name]\n",
    "    padded_acts = torch.nn.functional.pad(acts, (0, 0, 0, sum_acts.shape[1]-acts.shape[1]))\n",
    "\n",
    "    sum_acts += padded_acts[0]\n",
    "\n",
    "    # another strategy: divide each act by the number of tokens at that position in the dataset, then add to average"
   ]
  },
  {
   "cell_type": "code",
   "execution_count": null,
   "metadata": {
    "colab": {
     "base_uri": "https://localhost:8080/"
    },
    "id": "XymXKOoLS2sk",
    "outputId": "1289f193-67b8-42c9-c9b4-9abc2bce792e"
   },
   "outputs": [],
   "source": [
    "pos_counts_expanded = pos_counts.unsqueeze(0).unsqueeze(-1)  # [1, pos, 1]\n",
    "print(pos_counts[:5])\n",
    "print(pos_counts_expanded.shape)\n",
    "# print(pos_counts_expanded)\n",
    "\n",
    "print(sum_acts.shape) # [batch, pos, d_mlp]\n",
    "print(sum_acts.mean(0))\n",
    "print(sum_acts[0][0][:5])\n",
    "print(sum_acts / pos_counts_expanded)\n",
    "\n",
    "\n",
    "# # gpt-small\n",
    "# gpt2_tokens = gpt2_model.to_tokens(test_text)\n",
    "# gpt_loss, gpt_cache = gpt2_model.run_with_cache(gpt2_tokens, return_type=\"loss\")\n",
    "# mean_ablated_gpt_loss = gpt2_model.run_with_hooks(\n",
    "#     gpt2_tokens,\n",
    "#     return_type=\"loss\",\n",
    "#     fwd_hooks=[(utils.get_act_name(\"pre\", 0), get_mlp_mean_ablation_hook(gpt_cache, utils.get_act_name(\"pre\", 0)))])\n",
    "\n",
    "# print(mean_ablated_gpt_loss)"
   ]
  }
 ],
 "metadata": {
  "colab": {
   "provenance": []
  },
  "kernelspec": {
   "display_name": "Python 3 (ipykernel)",
   "language": "python",
   "name": "python3"
  },
  "language_info": {
   "codemirror_mode": {
    "name": "ipython",
    "version": 3
   },
   "file_extension": ".py",
   "mimetype": "text/x-python",
   "name": "python",
   "nbconvert_exporter": "python",
   "pygments_lexer": "ipython3",
   "version": "3.10.11"
  },
  "widgets": {
   "application/vnd.jupyter.widget-state+json": {
    "22cf64c1d5374d3f9ce6a04630e08741": {
     "model_module": "@jupyter-widgets/base",
     "model_module_version": "1.2.0",
     "model_name": "LayoutModel",
     "state": {
      "_model_module": "@jupyter-widgets/base",
      "_model_module_version": "1.2.0",
      "_model_name": "LayoutModel",
      "_view_count": null,
      "_view_module": "@jupyter-widgets/base",
      "_view_module_version": "1.2.0",
      "_view_name": "LayoutView",
      "align_content": null,
      "align_items": null,
      "align_self": null,
      "border": null,
      "bottom": null,
      "display": null,
      "flex": null,
      "flex_flow": null,
      "grid_area": null,
      "grid_auto_columns": null,
      "grid_auto_flow": null,
      "grid_auto_rows": null,
      "grid_column": null,
      "grid_gap": null,
      "grid_row": null,
      "grid_template_areas": null,
      "grid_template_columns": null,
      "grid_template_rows": null,
      "height": null,
      "justify_content": null,
      "justify_items": null,
      "left": null,
      "margin": null,
      "max_height": null,
      "max_width": null,
      "min_height": null,
      "min_width": null,
      "object_fit": null,
      "object_position": null,
      "order": null,
      "overflow": null,
      "overflow_x": null,
      "overflow_y": null,
      "padding": null,
      "right": null,
      "top": null,
      "visibility": "hidden",
      "width": null
     }
    },
    "2404b2dceca84d68b8cd04883db5ce3b": {
     "model_module": "@jupyter-widgets/controls",
     "model_module_version": "1.5.0",
     "model_name": "DescriptionStyleModel",
     "state": {
      "_model_module": "@jupyter-widgets/controls",
      "_model_module_version": "1.5.0",
      "_model_name": "DescriptionStyleModel",
      "_view_count": null,
      "_view_module": "@jupyter-widgets/base",
      "_view_module_version": "1.2.0",
      "_view_name": "StyleView",
      "description_width": ""
     }
    },
    "248dcada484e44b1ba8565ceaa3be716": {
     "model_module": "@jupyter-widgets/base",
     "model_module_version": "1.2.0",
     "model_name": "LayoutModel",
     "state": {
      "_model_module": "@jupyter-widgets/base",
      "_model_module_version": "1.2.0",
      "_model_name": "LayoutModel",
      "_view_count": null,
      "_view_module": "@jupyter-widgets/base",
      "_view_module_version": "1.2.0",
      "_view_name": "LayoutView",
      "align_content": null,
      "align_items": null,
      "align_self": null,
      "border": null,
      "bottom": null,
      "display": null,
      "flex": null,
      "flex_flow": null,
      "grid_area": null,
      "grid_auto_columns": null,
      "grid_auto_flow": null,
      "grid_auto_rows": null,
      "grid_column": null,
      "grid_gap": null,
      "grid_row": null,
      "grid_template_areas": null,
      "grid_template_columns": null,
      "grid_template_rows": null,
      "height": null,
      "justify_content": null,
      "justify_items": null,
      "left": null,
      "margin": null,
      "max_height": null,
      "max_width": null,
      "min_height": null,
      "min_width": null,
      "object_fit": null,
      "object_position": null,
      "order": null,
      "overflow": null,
      "overflow_x": null,
      "overflow_y": null,
      "padding": null,
      "right": null,
      "top": null,
      "visibility": null,
      "width": null
     }
    },
    "3eac9743e5164c9bb4d434a989da3e3d": {
     "model_module": "@jupyter-widgets/controls",
     "model_module_version": "1.5.0",
     "model_name": "ProgressStyleModel",
     "state": {
      "_model_module": "@jupyter-widgets/controls",
      "_model_module_version": "1.5.0",
      "_model_name": "ProgressStyleModel",
      "_view_count": null,
      "_view_module": "@jupyter-widgets/base",
      "_view_module_version": "1.2.0",
      "_view_name": "StyleView",
      "bar_color": null,
      "description_width": ""
     }
    },
    "6fb7786473ce413e95e6508a724a305c": {
     "model_module": "@jupyter-widgets/controls",
     "model_module_version": "1.5.0",
     "model_name": "DescriptionStyleModel",
     "state": {
      "_model_module": "@jupyter-widgets/controls",
      "_model_module_version": "1.5.0",
      "_model_name": "DescriptionStyleModel",
      "_view_count": null,
      "_view_module": "@jupyter-widgets/base",
      "_view_module_version": "1.2.0",
      "_view_name": "StyleView",
      "description_width": ""
     }
    },
    "77645a786fb848daa52292123f400757": {
     "model_module": "@jupyter-widgets/controls",
     "model_module_version": "1.5.0",
     "model_name": "HBoxModel",
     "state": {
      "_dom_classes": [],
      "_model_module": "@jupyter-widgets/controls",
      "_model_module_version": "1.5.0",
      "_model_name": "HBoxModel",
      "_view_count": null,
      "_view_module": "@jupyter-widgets/controls",
      "_view_module_version": "1.5.0",
      "_view_name": "HBoxView",
      "box_style": "",
      "children": [
       "IPY_MODEL_d404c75521da43e897db824ce2ee2e8c",
       "IPY_MODEL_c3242a3bd78d42c2bb23a0a42ff6b27b",
       "IPY_MODEL_e11146730ad147aeb3d4b72236043d77"
      ],
      "layout": "IPY_MODEL_22cf64c1d5374d3f9ce6a04630e08741"
     }
    },
    "922ccf8ebe0144beb5ed5b66e9d822c5": {
     "model_module": "@jupyter-widgets/base",
     "model_module_version": "1.2.0",
     "model_name": "LayoutModel",
     "state": {
      "_model_module": "@jupyter-widgets/base",
      "_model_module_version": "1.2.0",
      "_model_name": "LayoutModel",
      "_view_count": null,
      "_view_module": "@jupyter-widgets/base",
      "_view_module_version": "1.2.0",
      "_view_name": "LayoutView",
      "align_content": null,
      "align_items": null,
      "align_self": null,
      "border": null,
      "bottom": null,
      "display": null,
      "flex": null,
      "flex_flow": null,
      "grid_area": null,
      "grid_auto_columns": null,
      "grid_auto_flow": null,
      "grid_auto_rows": null,
      "grid_column": null,
      "grid_gap": null,
      "grid_row": null,
      "grid_template_areas": null,
      "grid_template_columns": null,
      "grid_template_rows": null,
      "height": null,
      "justify_content": null,
      "justify_items": null,
      "left": null,
      "margin": null,
      "max_height": null,
      "max_width": null,
      "min_height": null,
      "min_width": null,
      "object_fit": null,
      "object_position": null,
      "order": null,
      "overflow": null,
      "overflow_x": null,
      "overflow_y": null,
      "padding": null,
      "right": null,
      "top": null,
      "visibility": null,
      "width": null
     }
    },
    "aa6a7e83eabe4eae8e145ebbd8ddd7da": {
     "model_module": "@jupyter-widgets/base",
     "model_module_version": "1.2.0",
     "model_name": "LayoutModel",
     "state": {
      "_model_module": "@jupyter-widgets/base",
      "_model_module_version": "1.2.0",
      "_model_name": "LayoutModel",
      "_view_count": null,
      "_view_module": "@jupyter-widgets/base",
      "_view_module_version": "1.2.0",
      "_view_name": "LayoutView",
      "align_content": null,
      "align_items": null,
      "align_self": null,
      "border": null,
      "bottom": null,
      "display": null,
      "flex": null,
      "flex_flow": null,
      "grid_area": null,
      "grid_auto_columns": null,
      "grid_auto_flow": null,
      "grid_auto_rows": null,
      "grid_column": null,
      "grid_gap": null,
      "grid_row": null,
      "grid_template_areas": null,
      "grid_template_columns": null,
      "grid_template_rows": null,
      "height": null,
      "justify_content": null,
      "justify_items": null,
      "left": null,
      "margin": null,
      "max_height": null,
      "max_width": null,
      "min_height": null,
      "min_width": null,
      "object_fit": null,
      "object_position": null,
      "order": null,
      "overflow": null,
      "overflow_x": null,
      "overflow_y": null,
      "padding": null,
      "right": null,
      "top": null,
      "visibility": null,
      "width": null
     }
    },
    "c3242a3bd78d42c2bb23a0a42ff6b27b": {
     "model_module": "@jupyter-widgets/controls",
     "model_module_version": "1.5.0",
     "model_name": "FloatProgressModel",
     "state": {
      "_dom_classes": [],
      "_model_module": "@jupyter-widgets/controls",
      "_model_module_version": "1.5.0",
      "_model_name": "FloatProgressModel",
      "_view_count": null,
      "_view_module": "@jupyter-widgets/controls",
      "_view_module_version": "1.5.0",
      "_view_name": "ProgressView",
      "bar_style": "",
      "description": "",
      "description_tooltip": null,
      "layout": "IPY_MODEL_248dcada484e44b1ba8565ceaa3be716",
      "max": 7600,
      "min": 0,
      "orientation": "horizontal",
      "style": "IPY_MODEL_3eac9743e5164c9bb4d434a989da3e3d",
      "value": 7600
     }
    },
    "d404c75521da43e897db824ce2ee2e8c": {
     "model_module": "@jupyter-widgets/controls",
     "model_module_version": "1.5.0",
     "model_name": "HTMLModel",
     "state": {
      "_dom_classes": [],
      "_model_module": "@jupyter-widgets/controls",
      "_model_module_version": "1.5.0",
      "_model_name": "HTMLModel",
      "_view_count": null,
      "_view_module": "@jupyter-widgets/controls",
      "_view_module_version": "1.5.0",
      "_view_name": "HTMLView",
      "description": "",
      "description_tooltip": null,
      "layout": "IPY_MODEL_aa6a7e83eabe4eae8e145ebbd8ddd7da",
      "placeholder": "​",
      "style": "IPY_MODEL_6fb7786473ce413e95e6508a724a305c",
      "value": "Map:  99%"
     }
    },
    "e11146730ad147aeb3d4b72236043d77": {
     "model_module": "@jupyter-widgets/controls",
     "model_module_version": "1.5.0",
     "model_name": "HTMLModel",
     "state": {
      "_dom_classes": [],
      "_model_module": "@jupyter-widgets/controls",
      "_model_module_version": "1.5.0",
      "_model_name": "HTMLModel",
      "_view_count": null,
      "_view_module": "@jupyter-widgets/controls",
      "_view_module_version": "1.5.0",
      "_view_name": "HTMLView",
      "description": "",
      "description_tooltip": null,
      "layout": "IPY_MODEL_922ccf8ebe0144beb5ed5b66e9d822c5",
      "placeholder": "​",
      "style": "IPY_MODEL_2404b2dceca84d68b8cd04883db5ce3b",
      "value": " 7525/7600 [00:06&lt;00:00, 1637.81 examples/s]"
     }
    }
   }
  }
 },
 "nbformat": 4,
 "nbformat_minor": 1
}
